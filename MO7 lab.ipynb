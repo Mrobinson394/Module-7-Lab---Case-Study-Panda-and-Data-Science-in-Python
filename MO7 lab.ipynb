{
 "cells": [
  {
   "cell_type": "code",
   "execution_count": 1,
   "id": "65069d42-4d34-4f73-a407-c6dd7e155635",
   "metadata": {},
   "outputs": [],
   "source": [
    "import pandas as pd"
   ]
  },
  {
   "cell_type": "code",
   "execution_count": null,
   "id": "b9236a28-dc2e-4d28-81fa-c050b0db1a45",
   "metadata": {},
   "outputs": [],
   "source": [
    "pd."
   ]
  },
  {
   "cell_type": "code",
   "execution_count": null,
   "id": "681ab175-2fa1-474d-bee1-46c747db14b9",
   "metadata": {},
   "outputs": [],
   "source": [
    "df = pd. read_csv( 'telco_churn fesv' ) "
   ]
  },
  {
   "cell_type": "code",
   "execution_count": null,
   "id": "89d1bb6b-bc59-4647-bba2-ab7c114bab8e",
   "metadata": {},
   "outputs": [],
   "source": [
    "tempdict = {'col1': [1,2,3], 'col2' : [4,5,6],\n",
    "'co13' : [7,8,91}"
   ]
  },
  {
   "cell_type": "code",
   "execution_count": null,
   "id": "a939e82e-15b3-407c-ab4c-809faf6533e3",
   "metadata": {},
   "outputs": [],
   "source": [
    "dictdf = pd.DataFrame.from_dict (tempdict)"
   ]
  },
  {
   "cell_type": "code",
   "execution_count": null,
   "id": "eef8ca69-f577-405e-945d-ec613eee6c34",
   "metadata": {},
   "outputs": [],
   "source": [
    "df.head (10)"
   ]
  },
  {
   "cell_type": "code",
   "execution_count": null,
   "id": "c2009c17-f62a-4c7a-bdef-b311bdc2b1fa",
   "metadata": {},
   "outputs": [],
   "source": [
    "dictdf.head ( )"
   ]
  },
  {
   "cell_type": "code",
   "execution_count": null,
   "id": "41d20ac8-6814-4d5a-835f-1e22dabc4c33",
   "metadata": {},
   "outputs": [],
   "source": [
    "df. tail()"
   ]
  },
  {
   "cell_type": "code",
   "execution_count": null,
   "id": "71493f4f-7176-4d5f-866c-323dba335265",
   "metadata": {},
   "outputs": [],
   "source": [
    "df. columns"
   ]
  },
  {
   "cell_type": "code",
   "execution_count": null,
   "id": "04b385fe-3d44-4677-91b7-cf4bed1acc33",
   "metadata": {},
   "outputs": [],
   "source": [
    "df .dtypes"
   ]
  },
  {
   "cell_type": "code",
   "execution_count": null,
   "id": "03a845cd-12df-48eb-83d5-0aa489c42617",
   "metadata": {},
   "outputs": [],
   "source": [
    "df. describe( )"
   ]
  },
  {
   "cell_type": "code",
   "execution_count": null,
   "id": "16abb5a9-97fa-403c-80d0-b5a485551ce2",
   "metadata": {},
   "outputs": [],
   "source": [
    "df. describe (include='object')"
   ]
  },
  {
   "cell_type": "code",
   "execution_count": null,
   "id": "b1d2382f-f828-4788-9094-654904c9d08f",
   "metadata": {},
   "outputs": [],
   "source": [
    "df. State"
   ]
  },
  {
   "cell_type": "code",
   "execution_count": null,
   "id": "00704a86-300c-4fe5-bbef-9e5e8ab0fb0c",
   "metadata": {},
   "outputs": [],
   "source": [
    "df[ 'International plan'"
   ]
  },
  {
   "cell_type": "code",
   "execution_count": null,
   "id": "0444d262-8f3b-4cd0-9f5d-ec81fdd2af07",
   "metadata": {},
   "outputs": [],
   "source": [
    "df.Churn.unique()"
   ]
  },
  {
   "cell_type": "code",
   "execution_count": null,
   "id": "05f1e23d-bdc9-44c0-a4b4-1e44cf84546c",
   "metadata": {},
   "outputs": [],
   "source": [
    "df.head()"
   ]
  },
  {
   "cell_type": "code",
   "execution_count": null,
   "id": "248ed58b-59e2-4ba7-8766-f7e7b53f0dd8",
   "metadata": {},
   "outputs": [],
   "source": [
    "df[df['International plan']=='No']"
   ]
  },
  {
   "cell_type": "code",
   "execution_count": null,
   "id": "c28bcb2a-6b61-46fc-abd7-5165851fb1a8",
   "metadata": {},
   "outputs": [],
   "source": [
    "df[(df['International plan']=='No') & (df['Churn']==True)]"
   ]
  },
  {
   "cell_type": "code",
   "execution_count": null,
   "id": "a5680b40-7692-488b-ba2f-e6934927fd0e",
   "metadata": {},
   "outputs": [],
   "source": [
    "df.iloc[14]"
   ]
  },
  {
   "cell_type": "code",
   "execution_count": null,
   "id": "288eb2d4-3e6e-4491-bf08-426222b7a8ab",
   "metadata": {},
   "outputs": [],
   "source": [
    "df.iloc[14,-1]"
   ]
  },
  {
   "cell_type": "code",
   "execution_count": null,
   "id": "aa6946cc-c54e-4c8f-b3c9-447d466d761a",
   "metadata": {},
   "outputs": [],
   "source": [
    "df.iloc[22:33]"
   ]
  },
  {
   "cell_type": "code",
   "execution_count": null,
   "id": "a161495f-3570-469f-aaa9-3b5e88005788",
   "metadata": {},
   "outputs": [],
   "source": [
    "state = df.copy()\n",
    "state.set_index('State', inplace=True)"
   ]
  },
  {
   "cell_type": "code",
   "execution_count": null,
   "id": "f8ac3fa3-0053-4d2f-b23e-55988028739b",
   "metadata": {},
   "outputs": [],
   "source": [
    "state.head()"
   ]
  },
  {
   "cell_type": "code",
   "execution_count": null,
   "id": "9b4e9188-0f4b-4b46-a36b-cb9158d74425",
   "metadata": {},
   "outputs": [],
   "source": [
    "state.loc['OH']"
   ]
  },
  {
   "cell_type": "code",
   "execution_count": null,
   "id": "8fac83ec-c267-44ac-9677-98ccfda07439",
   "metadata": {},
   "outputs": [],
   "source": [
    "df.isnull().sum()"
   ]
  },
  {
   "cell_type": "code",
   "execution_count": null,
   "id": "f909b12b-26b6-4f67-a38a-8482081d4844",
   "metadata": {},
   "outputs": [],
   "source": [
    "df.dropna(inplace=True)"
   ]
  },
  {
   "cell_type": "code",
   "execution_count": null,
   "id": "321eb7ff-df83-4419-9749-44743aa88181",
   "metadata": {},
   "outputs": [],
   "source": [
    "df.isnull().sum()"
   ]
  },
  {
   "cell_type": "code",
   "execution_count": null,
   "id": "cc27bbf3-259a-4c9c-a0a8-f4faaa9bcc9f",
   "metadata": {},
   "outputs": [],
   "source": [
    "df.drop('Area code', axis=1)"
   ]
  },
  {
   "cell_type": "code",
   "execution_count": null,
   "id": "ffe3ea21-b72a-4509-b25f-c1230bc43b10",
   "metadata": {},
   "outputs": [],
   "source": [
    "df['New Column'] = df['Total night minutes'] + df['Total intl minutes']"
   ]
  },
  {
   "cell_type": "code",
   "execution_count": null,
   "id": "660de843-ff2a-4a71-8701-b2a11917be2e",
   "metadata": {},
   "outputs": [],
   "source": [
    "df.head()"
   ]
  },
  {
   "cell_type": "code",
   "execution_count": null,
   "id": "62d64a57-ff4c-4577-be03-d4b2113251e5",
   "metadata": {},
   "outputs": [],
   "source": [
    "df['New Column'] = 100"
   ]
  },
  {
   "cell_type": "code",
   "execution_count": null,
   "id": "623f5368-6879-4285-98eb-f0c2790dbcbf",
   "metadata": {},
   "outputs": [],
   "source": [
    "df.head()"
   ]
  },
  {
   "cell_type": "code",
   "execution_count": null,
   "id": "168b3be4-b407-4e46-9875-3a2cab0d5f52",
   "metadata": {},
   "outputs": [],
   "source": [
    "df.iloc[0,-1] = 10"
   ]
  },
  {
   "cell_type": "code",
   "execution_count": null,
   "id": "d8c2bf2e-06e5-4cb3-bdd3-97f21c2afc7f",
   "metadata": {},
   "outputs": [],
   "source": [
    "df.head()"
   ]
  },
  {
   "cell_type": "code",
   "execution_count": null,
   "id": "3f52822b-d1ad-491e-8cab-53b98fd4fbe2",
   "metadata": {},
   "outputs": [],
   "source": [
    "df['Churn Binary'] = df['Churn'].apply(lambda x: 1 if x==True else 0)"
   ]
  },
  {
   "cell_type": "code",
   "execution_count": null,
   "id": "3c244e65-80dc-4c3c-b956-6bdbff7e5b8f",
   "metadata": {},
   "outputs": [],
   "source": [
    "df[df['Churn']==True].head()"
   ]
  },
  {
   "cell_type": "code",
   "execution_count": null,
   "id": "343ae39a-568f-4784-9103-eb9095fefb8c",
   "metadata": {},
   "outputs": [],
   "source": [
    "df.to_csv('output.csv')"
   ]
  },
  {
   "cell_type": "code",
   "execution_count": null,
   "id": "c90128ed-9af9-4aa6-a2c9-fcdc919a09eb",
   "metadata": {},
   "outputs": [],
   "source": [
    "df.to_json()"
   ]
  }
 ],
 "metadata": {
  "kernelspec": {
   "display_name": "Python 3 (ipykernel)",
   "language": "python",
   "name": "python3"
  },
  "language_info": {
   "codemirror_mode": {
    "name": "ipython",
    "version": 3
   },
   "file_extension": ".py",
   "mimetype": "text/x-python",
   "name": "python",
   "nbconvert_exporter": "python",
   "pygments_lexer": "ipython3",
   "version": "3.12.4"
  }
 },
 "nbformat": 4,
 "nbformat_minor": 5
}
